{
 "cells": [
  {
   "cell_type": "code",
   "execution_count": 18,
   "id": "3047dc8f-4aed-42c5-ad83-c68f3e61dd90",
   "metadata": {},
   "outputs": [],
   "source": [
    "import pandas as pd\n",
    "from pathlib import Path\n",
    "import os\n",
    "\n",
    "import matplotlib.pyplot as plt\n",
    "import matplotlib.image as mpimg"
   ]
  },
  {
   "cell_type": "code",
   "execution_count": 6,
   "id": "9d229ca1-64e4-4417-8f1a-a5453b0afcae",
   "metadata": {},
   "outputs": [],
   "source": [
    "base_path = Path(\"../../../SELFCLEAN/Presentation_SelfClean\")"
   ]
  },
  {
   "cell_type": "code",
   "execution_count": 10,
   "id": "a7eac6b1-b2d6-4ddf-ab1b-dad38c27ba9d",
   "metadata": {},
   "outputs": [],
   "source": [
    "analysis = base_path / \"Notebooks/V1Analyse\""
   ]
  },
  {
   "cell_type": "code",
   "execution_count": 11,
   "id": "31698b88-58a4-4864-94ad-5da0a6111701",
   "metadata": {},
   "outputs": [
    {
     "data": {
      "text/plain": [
       "True"
      ]
     },
     "execution_count": 11,
     "metadata": {},
     "output_type": "execute_result"
    }
   ],
   "source": [
    "os.path.exists(analysis)"
   ]
  },
  {
   "cell_type": "code",
   "execution_count": 12,
   "id": "c20091c9-f2ae-4d7f-9484-9a203634d309",
   "metadata": {},
   "outputs": [],
   "source": [
    "dino_irrelevant = pd.read_csv(analysis / \"Dino_Irrelevant.csv\")"
   ]
  },
  {
   "cell_type": "code",
   "execution_count": 15,
   "id": "56dd36d5-9083-459e-a2dd-8c0925b87ac7",
   "metadata": {},
   "outputs": [
    {
     "data": {
      "text/html": [
       "<div>\n",
       "<style scoped>\n",
       "    .dataframe tbody tr th:only-of-type {\n",
       "        vertical-align: middle;\n",
       "    }\n",
       "\n",
       "    .dataframe tbody tr th {\n",
       "        vertical-align: top;\n",
       "    }\n",
       "\n",
       "    .dataframe thead th {\n",
       "        text-align: right;\n",
       "    }\n",
       "</style>\n",
       "<table border=\"1\" class=\"dataframe\">\n",
       "  <thead>\n",
       "    <tr style=\"text-align: right;\">\n",
       "      <th></th>\n",
       "      <th>Unnamed: 0</th>\n",
       "      <th>indices</th>\n",
       "      <th>scores</th>\n",
       "      <th>path</th>\n",
       "      <th>label</th>\n",
       "    </tr>\n",
       "  </thead>\n",
       "  <tbody>\n",
       "    <tr>\n",
       "      <th>0</th>\n",
       "      <td>0</td>\n",
       "      <td>55</td>\n",
       "      <td>0.727087</td>\n",
       "      <td>../Dataset/Horw/Horw_2404.JPG</td>\n",
       "      <td>Horw</td>\n",
       "    </tr>\n",
       "    <tr>\n",
       "      <th>1</th>\n",
       "      <td>1</td>\n",
       "      <td>61</td>\n",
       "      <td>0.727087</td>\n",
       "      <td>../Dataset/Horw/Horw_2411.JPG</td>\n",
       "      <td>Horw</td>\n",
       "    </tr>\n",
       "    <tr>\n",
       "      <th>2</th>\n",
       "      <td>2</td>\n",
       "      <td>48</td>\n",
       "      <td>0.742514</td>\n",
       "      <td>../Dataset/Horw/Horw_2397.JPG</td>\n",
       "      <td>Horw</td>\n",
       "    </tr>\n",
       "    <tr>\n",
       "      <th>3</th>\n",
       "      <td>3</td>\n",
       "      <td>56</td>\n",
       "      <td>0.749165</td>\n",
       "      <td>../Dataset/Horw/Horw_2405.JPG</td>\n",
       "      <td>Horw</td>\n",
       "    </tr>\n",
       "    <tr>\n",
       "      <th>4</th>\n",
       "      <td>4</td>\n",
       "      <td>192</td>\n",
       "      <td>0.753766</td>\n",
       "      <td>../Dataset/Rotkreuz/Rotkreuz_2552.JPG</td>\n",
       "      <td>Rotkreuz</td>\n",
       "    </tr>\n",
       "    <tr>\n",
       "      <th>...</th>\n",
       "      <td>...</td>\n",
       "      <td>...</td>\n",
       "      <td>...</td>\n",
       "      <td>...</td>\n",
       "      <td>...</td>\n",
       "    </tr>\n",
       "    <tr>\n",
       "      <th>188</th>\n",
       "      <td>188</td>\n",
       "      <td>123</td>\n",
       "      <td>0.902892</td>\n",
       "      <td>../Dataset/Rotkreuz/Rotkreuz_2475.JPG</td>\n",
       "      <td>Rotkreuz</td>\n",
       "    </tr>\n",
       "    <tr>\n",
       "      <th>189</th>\n",
       "      <td>189</td>\n",
       "      <td>138</td>\n",
       "      <td>0.902893</td>\n",
       "      <td>../Dataset/Rotkreuz/Rotkreuz_2492.JPG</td>\n",
       "      <td>Rotkreuz</td>\n",
       "    </tr>\n",
       "    <tr>\n",
       "      <th>190</th>\n",
       "      <td>190</td>\n",
       "      <td>187</td>\n",
       "      <td>0.902894</td>\n",
       "      <td>../Dataset/Rotkreuz/Rotkreuz_2545.JPG</td>\n",
       "      <td>Rotkreuz</td>\n",
       "    </tr>\n",
       "    <tr>\n",
       "      <th>191</th>\n",
       "      <td>191</td>\n",
       "      <td>167</td>\n",
       "      <td>0.902895</td>\n",
       "      <td>../Dataset/Rotkreuz/Rotkreuz_2523.JPG</td>\n",
       "      <td>Rotkreuz</td>\n",
       "    </tr>\n",
       "    <tr>\n",
       "      <th>192</th>\n",
       "      <td>192</td>\n",
       "      <td>181</td>\n",
       "      <td>0.902895</td>\n",
       "      <td>../Dataset/Rotkreuz/Rotkreuz_2538.JPG</td>\n",
       "      <td>Rotkreuz</td>\n",
       "    </tr>\n",
       "  </tbody>\n",
       "</table>\n",
       "<p>193 rows × 5 columns</p>\n",
       "</div>"
      ],
      "text/plain": [
       "     Unnamed: 0  indices    scores                                   path  \\\n",
       "0             0       55  0.727087          ../Dataset/Horw/Horw_2404.JPG   \n",
       "1             1       61  0.727087          ../Dataset/Horw/Horw_2411.JPG   \n",
       "2             2       48  0.742514          ../Dataset/Horw/Horw_2397.JPG   \n",
       "3             3       56  0.749165          ../Dataset/Horw/Horw_2405.JPG   \n",
       "4             4      192  0.753766  ../Dataset/Rotkreuz/Rotkreuz_2552.JPG   \n",
       "..          ...      ...       ...                                    ...   \n",
       "188         188      123  0.902892  ../Dataset/Rotkreuz/Rotkreuz_2475.JPG   \n",
       "189         189      138  0.902893  ../Dataset/Rotkreuz/Rotkreuz_2492.JPG   \n",
       "190         190      187  0.902894  ../Dataset/Rotkreuz/Rotkreuz_2545.JPG   \n",
       "191         191      167  0.902895  ../Dataset/Rotkreuz/Rotkreuz_2523.JPG   \n",
       "192         192      181  0.902895  ../Dataset/Rotkreuz/Rotkreuz_2538.JPG   \n",
       "\n",
       "        label  \n",
       "0        Horw  \n",
       "1        Horw  \n",
       "2        Horw  \n",
       "3        Horw  \n",
       "4    Rotkreuz  \n",
       "..        ...  \n",
       "188  Rotkreuz  \n",
       "189  Rotkreuz  \n",
       "190  Rotkreuz  \n",
       "191  Rotkreuz  \n",
       "192  Rotkreuz  \n",
       "\n",
       "[193 rows x 5 columns]"
      ]
     },
     "execution_count": 15,
     "metadata": {},
     "output_type": "execute_result"
    }
   ],
   "source": [
    "dino_irrelevant"
   ]
  },
  {
   "cell_type": "code",
   "execution_count": 20,
   "id": "56c7330c-1181-4a8c-b3b0-58a79020365b",
   "metadata": {},
   "outputs": [
    {
     "name": "stdout",
     "output_type": "stream",
     "text": [
      "../Dataset/Horw/Horw_2404.JPG\n",
      "../Dataset/Horw/Horw_2411.JPG\n",
      "../Dataset/Horw/Horw_2397.JPG\n",
      "../Dataset/Horw/Horw_2405.JPG\n",
      "../Dataset/Rotkreuz/Rotkreuz_2552.JPG\n",
      "../Dataset/Horw/Horw_2403.JPG\n",
      "../Dataset/Horw/Horw_2414.JPG\n",
      "../Dataset/Rotkreuz/Rotkreuz_2457.JPG\n",
      "../Dataset/Horw/Horw_2396.JPG\n",
      "../Dataset/Horw/Horw_2402.JPG\n"
     ]
    }
   ],
   "source": [
    "for index, datapoint in dino_irrelevant.head(10).iterrows():\n",
    "    path = datapoint[\"path\"]\n",
    "    print(path)\n",
    "    # Read and display the image\n",
    "    img = mpimg.imread(path)\n",
    "    plt.imshow(img)\n",
    "    plt.axis('off')  # Turn off axis labels\n",
    "    #plt.show()\n",
    "    plt.close()"
   ]
  },
  {
   "cell_type": "markdown",
   "id": "0f27551d-dcf7-4b1d-b662-4bad5c71e656",
   "metadata": {},
   "source": [
    "# Delete four images"
   ]
  },
  {
   "cell_type": "code",
   "execution_count": 22,
   "id": "5ca0983b-b555-4030-9a6f-62cfa1f351e3",
   "metadata": {},
   "outputs": [],
   "source": [
    "to_be_deleted = [\"../Dataset/Horw/Horw_2404.JPG\", \n",
    "\"../Dataset/Horw/Horw_2411.JPG\",\n",
    "\"../Dataset/Horw/Horw_2397.JPG\",\n",
    "\"../Dataset/Horw/Horw_2405.JPG\"]"
   ]
  },
  {
   "cell_type": "code",
   "execution_count": 23,
   "id": "4c8611b9-abb5-4242-a7eb-bfba3bb16d57",
   "metadata": {},
   "outputs": [
    {
     "name": "stdout",
     "output_type": "stream",
     "text": [
      "Deleted: ../Dataset/Horw/Horw_2404.JPG\n",
      "Deleted: ../Dataset/Horw/Horw_2411.JPG\n",
      "Deleted: ../Dataset/Horw/Horw_2397.JPG\n",
      "Deleted: ../Dataset/Horw/Horw_2405.JPG\n"
     ]
    }
   ],
   "source": [
    "def delete_images(image_paths):\n",
    "    for path in image_paths:\n",
    "        if os.path.exists(path):\n",
    "            try:\n",
    "                os.remove(path)\n",
    "                print(f\"Deleted: {path}\")\n",
    "            except Exception as e:\n",
    "                print(f\"Error deleting {path}: {e}\")\n",
    "        else:\n",
    "            print(f\"File not found: {path}\")\n",
    "\n",
    "\n",
    "delete_images(to_be_deleted)"
   ]
  },
  {
   "cell_type": "code",
   "execution_count": null,
   "id": "80f5d09d-2c28-4aa6-b9aa-3a078bcb5b51",
   "metadata": {},
   "outputs": [],
   "source": []
  }
 ],
 "metadata": {
  "kernelspec": {
   "display_name": "Python 3 (ipykernel)",
   "language": "python",
   "name": "python3"
  },
  "language_info": {
   "codemirror_mode": {
    "name": "ipython",
    "version": 3
   },
   "file_extension": ".py",
   "mimetype": "text/x-python",
   "name": "python",
   "nbconvert_exporter": "python",
   "pygments_lexer": "ipython3",
   "version": "3.11.9"
  }
 },
 "nbformat": 4,
 "nbformat_minor": 5
}
